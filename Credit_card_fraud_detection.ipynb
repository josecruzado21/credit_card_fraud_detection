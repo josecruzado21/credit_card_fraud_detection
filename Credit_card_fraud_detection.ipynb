{
 "cells": [
  {
   "cell_type": "markdown",
   "id": "historic-federation",
   "metadata": {},
   "source": [
    "# Fraud Detection in Credit Card Payments"
   ]
  },
  {
   "cell_type": "markdown",
   "id": "becoming-tyler",
   "metadata": {},
   "source": [
    "The data used in the following notebook was obtained from Kaggle (Dal Pozzolo et al 2015). Link to the dataset: https://www.kaggle.com/mlg-ulb/creditcardfraud/data\n",
    "\n",
    "According to the dictionary, to protect the identity, the variables in the data set are the consequence of a dimensionality reduction process (PCA). The time variable represent the number of seconds elapsed between the transaction and the first transaction in the dataset."
   ]
  },
  {
   "cell_type": "markdown",
   "id": "downtown-folder",
   "metadata": {},
   "source": [
    "## Downloading the dataset\n",
    "\n",
    "In case you cloned this repository from Amazon Sagemaker, the best way to obtain the data is to run the following lines:\n",
    "\n",
    "```\n",
    "!rm creditcard.csv\n",
    "!wget https://s3.amazonaws.com/video.udacity-data.com/topher/2019/January/5c534768_creditcardfraud/creditcardfraud.zip\n",
    "!unzip creditcardfraud\n",
    "!rm creditcardfraud.zip\n",
    "```\n",
    "\n",
    "Because creditcard.csv was uploaded using `lfs`, When this repository is cloned from Sagemaker, the creditcard.csv file will contain only pointers.\n",
    "\n",
    "If you clone this repo locally and `lfs` is configured, the dataset will be correcly downloaded."
   ]
  },
  {
   "cell_type": "markdown",
   "id": "egyptian-identifier",
   "metadata": {},
   "source": [
    "## Exploring the dataset"
   ]
  },
  {
   "cell_type": "code",
   "execution_count": 1,
   "id": "express-excess",
   "metadata": {},
   "outputs": [],
   "source": [
    "import pandas as pd\n",
    "import numpy as np\n",
    "import matplotlib.pyplot as plt\n",
    "import seaborn as sns"
   ]
  },
  {
   "cell_type": "code",
   "execution_count": 3,
   "id": "equal-arctic",
   "metadata": {},
   "outputs": [
    {
     "name": "stdout",
     "output_type": "stream",
     "text": [
      "rm: cannot remove ‘creditcard.csv’: No such file or directory\n",
      "--2021-04-03 21:49:28--  https://s3.amazonaws.com/video.udacity-data.com/topher/2019/January/5c534768_creditcardfraud/creditcardfraud.zip\n",
      "Resolving s3.amazonaws.com (s3.amazonaws.com)... 52.216.161.237\n",
      "Connecting to s3.amazonaws.com (s3.amazonaws.com)|52.216.161.237|:443... connected.\n",
      "HTTP request sent, awaiting response... 200 OK\n",
      "Length: 69155632 (66M) [application/zip]\n",
      "Saving to: ‘creditcardfraud.zip’\n",
      "\n",
      "creditcardfraud.zip 100%[===================>]  65.95M  44.7MB/s    in 1.5s    \n",
      "\n",
      "2021-04-03 21:49:29 (44.7 MB/s) - ‘creditcardfraud.zip’ saved [69155632/69155632]\n",
      "\n",
      "Archive:  creditcardfraud.zip\n",
      "  inflating: creditcard.csv          \n"
     ]
    }
   ],
   "source": [
    "!rm creditcard.csv\n",
    "!wget https://s3.amazonaws.com/video.udacity-data.com/topher/2019/January/5c534768_creditcardfraud/creditcardfraud.zip\n",
    "!unzip creditcardfraud\n",
    "!rm creditcardfraud.zip"
   ]
  },
  {
   "cell_type": "code",
   "execution_count": 4,
   "id": "immediate-testing",
   "metadata": {},
   "outputs": [],
   "source": [
    "data=pd.read_csv('creditcard.csv')"
   ]
  },
  {
   "cell_type": "code",
   "execution_count": 5,
   "id": "rocky-coffee",
   "metadata": {},
   "outputs": [
    {
     "name": "stdout",
     "output_type": "stream",
     "text": [
      "The dataset contains 284807 observations and 31 features\n"
     ]
    },
    {
     "data": {
      "text/html": [
       "<div>\n",
       "<style scoped>\n",
       "    .dataframe tbody tr th:only-of-type {\n",
       "        vertical-align: middle;\n",
       "    }\n",
       "\n",
       "    .dataframe tbody tr th {\n",
       "        vertical-align: top;\n",
       "    }\n",
       "\n",
       "    .dataframe thead th {\n",
       "        text-align: right;\n",
       "    }\n",
       "</style>\n",
       "<table border=\"1\" class=\"dataframe\">\n",
       "  <thead>\n",
       "    <tr style=\"text-align: right;\">\n",
       "      <th></th>\n",
       "      <th>Time</th>\n",
       "      <th>V1</th>\n",
       "      <th>V2</th>\n",
       "      <th>V3</th>\n",
       "      <th>V4</th>\n",
       "      <th>V5</th>\n",
       "      <th>V6</th>\n",
       "      <th>V7</th>\n",
       "      <th>V8</th>\n",
       "      <th>V9</th>\n",
       "      <th>...</th>\n",
       "      <th>V21</th>\n",
       "      <th>V22</th>\n",
       "      <th>V23</th>\n",
       "      <th>V24</th>\n",
       "      <th>V25</th>\n",
       "      <th>V26</th>\n",
       "      <th>V27</th>\n",
       "      <th>V28</th>\n",
       "      <th>Amount</th>\n",
       "      <th>Class</th>\n",
       "    </tr>\n",
       "  </thead>\n",
       "  <tbody>\n",
       "    <tr>\n",
       "      <th>0</th>\n",
       "      <td>0.0</td>\n",
       "      <td>-1.359807</td>\n",
       "      <td>-0.072781</td>\n",
       "      <td>2.536347</td>\n",
       "      <td>1.378155</td>\n",
       "      <td>-0.338321</td>\n",
       "      <td>0.462388</td>\n",
       "      <td>0.239599</td>\n",
       "      <td>0.098698</td>\n",
       "      <td>0.363787</td>\n",
       "      <td>...</td>\n",
       "      <td>-0.018307</td>\n",
       "      <td>0.277838</td>\n",
       "      <td>-0.110474</td>\n",
       "      <td>0.066928</td>\n",
       "      <td>0.128539</td>\n",
       "      <td>-0.189115</td>\n",
       "      <td>0.133558</td>\n",
       "      <td>-0.021053</td>\n",
       "      <td>149.62</td>\n",
       "      <td>0</td>\n",
       "    </tr>\n",
       "    <tr>\n",
       "      <th>1</th>\n",
       "      <td>0.0</td>\n",
       "      <td>1.191857</td>\n",
       "      <td>0.266151</td>\n",
       "      <td>0.166480</td>\n",
       "      <td>0.448154</td>\n",
       "      <td>0.060018</td>\n",
       "      <td>-0.082361</td>\n",
       "      <td>-0.078803</td>\n",
       "      <td>0.085102</td>\n",
       "      <td>-0.255425</td>\n",
       "      <td>...</td>\n",
       "      <td>-0.225775</td>\n",
       "      <td>-0.638672</td>\n",
       "      <td>0.101288</td>\n",
       "      <td>-0.339846</td>\n",
       "      <td>0.167170</td>\n",
       "      <td>0.125895</td>\n",
       "      <td>-0.008983</td>\n",
       "      <td>0.014724</td>\n",
       "      <td>2.69</td>\n",
       "      <td>0</td>\n",
       "    </tr>\n",
       "    <tr>\n",
       "      <th>2</th>\n",
       "      <td>1.0</td>\n",
       "      <td>-1.358354</td>\n",
       "      <td>-1.340163</td>\n",
       "      <td>1.773209</td>\n",
       "      <td>0.379780</td>\n",
       "      <td>-0.503198</td>\n",
       "      <td>1.800499</td>\n",
       "      <td>0.791461</td>\n",
       "      <td>0.247676</td>\n",
       "      <td>-1.514654</td>\n",
       "      <td>...</td>\n",
       "      <td>0.247998</td>\n",
       "      <td>0.771679</td>\n",
       "      <td>0.909412</td>\n",
       "      <td>-0.689281</td>\n",
       "      <td>-0.327642</td>\n",
       "      <td>-0.139097</td>\n",
       "      <td>-0.055353</td>\n",
       "      <td>-0.059752</td>\n",
       "      <td>378.66</td>\n",
       "      <td>0</td>\n",
       "    </tr>\n",
       "    <tr>\n",
       "      <th>3</th>\n",
       "      <td>1.0</td>\n",
       "      <td>-0.966272</td>\n",
       "      <td>-0.185226</td>\n",
       "      <td>1.792993</td>\n",
       "      <td>-0.863291</td>\n",
       "      <td>-0.010309</td>\n",
       "      <td>1.247203</td>\n",
       "      <td>0.237609</td>\n",
       "      <td>0.377436</td>\n",
       "      <td>-1.387024</td>\n",
       "      <td>...</td>\n",
       "      <td>-0.108300</td>\n",
       "      <td>0.005274</td>\n",
       "      <td>-0.190321</td>\n",
       "      <td>-1.175575</td>\n",
       "      <td>0.647376</td>\n",
       "      <td>-0.221929</td>\n",
       "      <td>0.062723</td>\n",
       "      <td>0.061458</td>\n",
       "      <td>123.50</td>\n",
       "      <td>0</td>\n",
       "    </tr>\n",
       "    <tr>\n",
       "      <th>4</th>\n",
       "      <td>2.0</td>\n",
       "      <td>-1.158233</td>\n",
       "      <td>0.877737</td>\n",
       "      <td>1.548718</td>\n",
       "      <td>0.403034</td>\n",
       "      <td>-0.407193</td>\n",
       "      <td>0.095921</td>\n",
       "      <td>0.592941</td>\n",
       "      <td>-0.270533</td>\n",
       "      <td>0.817739</td>\n",
       "      <td>...</td>\n",
       "      <td>-0.009431</td>\n",
       "      <td>0.798278</td>\n",
       "      <td>-0.137458</td>\n",
       "      <td>0.141267</td>\n",
       "      <td>-0.206010</td>\n",
       "      <td>0.502292</td>\n",
       "      <td>0.219422</td>\n",
       "      <td>0.215153</td>\n",
       "      <td>69.99</td>\n",
       "      <td>0</td>\n",
       "    </tr>\n",
       "  </tbody>\n",
       "</table>\n",
       "<p>5 rows × 31 columns</p>\n",
       "</div>"
      ],
      "text/plain": [
       "   Time        V1        V2        V3        V4        V5        V6        V7  \\\n",
       "0   0.0 -1.359807 -0.072781  2.536347  1.378155 -0.338321  0.462388  0.239599   \n",
       "1   0.0  1.191857  0.266151  0.166480  0.448154  0.060018 -0.082361 -0.078803   \n",
       "2   1.0 -1.358354 -1.340163  1.773209  0.379780 -0.503198  1.800499  0.791461   \n",
       "3   1.0 -0.966272 -0.185226  1.792993 -0.863291 -0.010309  1.247203  0.237609   \n",
       "4   2.0 -1.158233  0.877737  1.548718  0.403034 -0.407193  0.095921  0.592941   \n",
       "\n",
       "         V8        V9  ...       V21       V22       V23       V24       V25  \\\n",
       "0  0.098698  0.363787  ... -0.018307  0.277838 -0.110474  0.066928  0.128539   \n",
       "1  0.085102 -0.255425  ... -0.225775 -0.638672  0.101288 -0.339846  0.167170   \n",
       "2  0.247676 -1.514654  ...  0.247998  0.771679  0.909412 -0.689281 -0.327642   \n",
       "3  0.377436 -1.387024  ... -0.108300  0.005274 -0.190321 -1.175575  0.647376   \n",
       "4 -0.270533  0.817739  ... -0.009431  0.798278 -0.137458  0.141267 -0.206010   \n",
       "\n",
       "        V26       V27       V28  Amount  Class  \n",
       "0 -0.189115  0.133558 -0.021053  149.62      0  \n",
       "1  0.125895 -0.008983  0.014724    2.69      0  \n",
       "2 -0.139097 -0.055353 -0.059752  378.66      0  \n",
       "3 -0.221929  0.062723  0.061458  123.50      0  \n",
       "4  0.502292  0.219422  0.215153   69.99      0  \n",
       "\n",
       "[5 rows x 31 columns]"
      ]
     },
     "execution_count": 5,
     "metadata": {},
     "output_type": "execute_result"
    }
   ],
   "source": [
    "print(\"The dataset contains {} observations and {} features\".format(data.shape[0],data.shape[1]))\n",
    "data.head()"
   ]
  },
  {
   "cell_type": "markdown",
   "id": "shaped-check",
   "metadata": {},
   "source": [
    "### Features\n",
    "\n",
    "* V1-V28: The principal componentes obtained by PCA. The original features cannot be disclosed for confidentiality reasons.\n",
    "* Time: Seconds elapsed between the transaction and the first transaction in the dataset.\n",
    "* Amount: The amount of the transaction.\n",
    "* Class: Takes the value of **1** if it was a fraudulent transaction and **0** otherwise."
   ]
  },
  {
   "cell_type": "markdown",
   "id": "endless-activity",
   "metadata": {},
   "source": [
    "#### Time\n",
    "\n",
    "The data contains two days of transactions"
   ]
  },
  {
   "cell_type": "code",
   "execution_count": 6,
   "id": "changing-diary",
   "metadata": {},
   "outputs": [
    {
     "data": {
      "text/plain": [
       "count    284807.000000\n",
       "mean      94813.859575\n",
       "std       47488.145955\n",
       "min           0.000000\n",
       "25%       54201.500000\n",
       "50%       84692.000000\n",
       "75%      139320.500000\n",
       "max      172792.000000\n",
       "Name: Time, dtype: float64"
      ]
     },
     "execution_count": 6,
     "metadata": {},
     "output_type": "execute_result"
    },
    {
     "data": {
      "image/png": "[encoded data removed]",
      "text/plain": [
       "<Figure size 432x288 with 1 Axes>"
      ]
     },
     "metadata": {
      "needs_background": "light"
     },
     "output_type": "display_data"
    }
   ],
   "source": [
    "data.Time.plot(kind='density');\n",
    "data.Time.describe()"
   ]
  },
  {
   "cell_type": "markdown",
   "id": "intimate-essence",
   "metadata": {},
   "source": [
    "#### PCA components\n",
    "\n",
    "As expected, all the components of the PCA has zero correlation with each other."
   ]
  },
  {
   "cell_type": "code",
   "execution_count": 7,
   "id": "skilled-compromise",
   "metadata": {},
   "outputs": [
    {
     "data": {
      "image/png": "[encoded data removed]",
      "text/plain": [
       "<Figure size 432x288 with 2 Axes>"
      ]
     },
     "metadata": {
      "needs_background": "light"
     },
     "output_type": "display_data"
    }
   ],
   "source": [
    "sns.heatmap(data.loc[:,data.columns.str.startswith('V')].corr());"
   ]
  },
  {
   "cell_type": "markdown",
   "id": "persistent-amazon",
   "metadata": {},
   "source": [
    "#### Amount"
   ]
  },
  {
   "cell_type": "code",
   "execution_count": 8,
   "id": "convenient-portsmouth",
   "metadata": {},
   "outputs": [
    {
     "data": {
      "text/plain": [
       "count    284807.000000\n",
       "mean         88.349619\n",
       "std         250.120109\n",
       "min           0.000000\n",
       "25%           5.600000\n",
       "50%          22.000000\n",
       "75%          77.165000\n",
       "max       25691.160000\n",
       "Name: Amount, dtype: float64"
      ]
     },
     "execution_count": 8,
     "metadata": {},
     "output_type": "execute_result"
    }
   ],
   "source": [
    "data.Amount.describe()"
   ]
  },
  {
   "cell_type": "markdown",
   "id": "joint-malta",
   "metadata": {},
   "source": [
    "#### Class"
   ]
  },
  {
   "cell_type": "markdown",
   "id": "opposite-strain",
   "metadata": {},
   "source": [
    "The dataset is extremely imbalanced, with only 0.17% of the observations labelled as fraudulent"
   ]
  },
  {
   "cell_type": "code",
   "execution_count": 9,
   "id": "controlled-crest",
   "metadata": {},
   "outputs": [
    {
     "name": "stdout",
     "output_type": "stream",
     "text": [
      "Number of fraudulent transactions in the dataset: 492\n",
      "Proportion of fraudulent transactions in the dataset: 0.1727485630620034%\n"
     ]
    }
   ],
   "source": [
    "print(\"Number of fraudulent transactions in the dataset: {}\".format(data.Class.value_counts()[1]))\n",
    "print(\"Proportion of fraudulent transactions in the dataset: {}%\".format((data.Class.value_counts()[1]/len(data.Class))*100))"
   ]
  },
  {
   "cell_type": "markdown",
   "id": "scientific-charge",
   "metadata": {},
   "source": [
    "## Model Estimation"
   ]
  },
  {
   "cell_type": "markdown",
   "id": "equal-dependence",
   "metadata": {},
   "source": [
    "Our task is to detect the as many fraudulent transactions as possible. Provided that our data is extremely imbalanced, with more that 99% of the observations labelled as non-fraudulent, algorithms will generally tend to predict all transactions to be on the majority class. For this reason, we should focus on minimizing False Negatives and maximizing True Positives (maximizing Recall).\n",
    "\n",
    "\\begin{align}\n",
    "Recall=\\frac{TP}{TP+FN}\n",
    "\\end{align}\n",
    "\n",
    "Performing cross validation to estimate the performance (recall) on the test set would not give accurate results. The reason for this is the low proportion of fraudulent transactions, which causes a great variability on the amout of class-1 observations used for training and test in each validation set. \n",
    "\n",
    "As we only have 492 fraudulent data points, training an algorithm with 400 of them and testing on 92 may generate very different results as training on 250 of them and testing on the rest.\n",
    "\n",
    "In order to mantain the proportion of class-1 points in the training and test set, we will perform a stratified sampling to divide the data into train and test."
   ]
  },
  {
   "cell_type": "code",
   "execution_count": 64,
   "id": "alpha-public",
   "metadata": {},
   "outputs": [
    {
     "data": {
      "text/plain": [
       "0    199020\n",
       "1       344\n",
       "Name: Class, dtype: int64"
      ]
     },
     "execution_count": 64,
     "metadata": {},
     "output_type": "execute_result"
    }
   ],
   "source": [
    "data.groupby(by='Class').sample(frac=0.7).Class.value_counts()"
   ]
  },
  {
   "cell_type": "code",
   "execution_count": 28,
   "id": "greatest-lloyd",
   "metadata": {},
   "outputs": [],
   "source": [
    "def stratified_sampling(data):\n",
    "    \"\"\"\n",
    "    Input: the dataset to split into training and test\n",
    "    \n",
    "    Output:\n",
    "    \n",
    "    The function returns X_train, X_test, y_train, y_test\n",
    "    \n",
    "    \"\"\"\n",
    "    train=data.iloc[data.groupby(by='Class').sample(frac=0.7).index]\n",
    "    test=data.drop(train.index,axis=0)\n",
    "    \n",
    "    X_train=train.drop('Class',axis=1)\n",
    "    X_test=test.drop('Class',axis=1)\n",
    "    y_train=train.Class\n",
    "    y_test=test.Class\n",
    "    return X_train, X_test, y_train, y_test"
   ]
  },
  {
   "cell_type": "markdown",
   "id": "sufficient-serum",
   "metadata": {},
   "source": [
    "### Logistic Regression"
   ]
  },
  {
   "cell_type": "code",
   "execution_count": 45,
   "id": "lucky-firmware",
   "metadata": {},
   "outputs": [],
   "source": [
    "from sklearn.linear_model import LogisticRegression\n",
    "from sklearn.metrics import recall_score\n",
    "from sklearn.metrics import confusion_matrix"
   ]
  },
  {
   "cell_type": "markdown",
   "id": "binary-bradford",
   "metadata": {},
   "source": [
    "#### Not accounting for class imbalance"
   ]
  },
  {
   "cell_type": "code",
   "execution_count": 52,
   "id": "boolean-money",
   "metadata": {},
   "outputs": [
    {
     "name": "stdout",
     "output_type": "stream",
     "text": [
      "The recall score without accounting for class imbalance is: 0.6192567567567568\n"
     ]
    }
   ],
   "source": [
    "recall_scores=[]\n",
    "for i in range(20):\n",
    "    X_train, X_test, y_train, y_test=stratified_sampling(data)\n",
    "    log_reg=LogisticRegression(max_iter=1000).fit(X_train,y_train)\n",
    "    y_pred=log_reg.predict(X_test)\n",
    "    recall_scores.append(recall_score(y_test,y_pred))\n",
    "\n",
    "print(\"The recall score without accounting for class imbalance is: {}\".format(sum(recall_scores)/len(recall_scores)))"
   ]
  },
  {
   "cell_type": "markdown",
   "id": "composite-spain",
   "metadata": {},
   "source": [
    "Is important to highlight that the 20 recall scores found above are not independent. \n",
    "\n",
    "Some training observations in the training set (or test) are the same among different repetitions. However, using 20 different iterations with only 492 class-1 observations makes highly probable that all the observations are used as training and test data points at least once. The latter occurs because we always select the same proportion of the 492 observations as training and test."
   ]
  },
  {
   "cell_type": "markdown",
   "id": "invalid-disaster",
   "metadata": {},
   "source": [
    "An example of a confusion matrix in one of the 20 repetitions estimated above\n",
    "\n",
    "|Confusion Matrix|y_true=1|y_true=0|\n",
    "|----------------|--------|--------|\n",
    "|**y_predicted=1**|TP=84|FP=16|\n",
    "|**y_predicted=0**|FN=64|TN=85,279|"
   ]
  },
  {
   "cell_type": "markdown",
   "id": "printable-criticism",
   "metadata": {},
   "source": [
    "#### Accounting for class imbalance"
   ]
  },
  {
   "cell_type": "code",
   "execution_count": 64,
   "id": "immune-machinery",
   "metadata": {},
   "outputs": [
    {
     "name": "stdout",
     "output_type": "stream",
     "text": [
      "The recall score accounting for class imbalance is: 0.9030405405405407\n"
     ]
    }
   ],
   "source": [
    "recall_scores=[]\n",
    "for i in range(20):\n",
    "    X_train, X_test, y_train, y_test=stratified_sampling(data)\n",
    "    log_reg=LogisticRegression(class_weight='balanced',max_iter=1000).fit(X_train,y_train)\n",
    "    y_pred=log_reg.predict(X_test)\n",
    "    recall_scores.append(recall_score(y_test,y_pred))\n",
    "print(\"The recall score accounting for class imbalance is: {}\".format(sum(recall_scores)/len(recall_scores)))"
   ]
  },
  {
   "cell_type": "code",
   "execution_count": null,
   "id": "furnished-preliminary",
   "metadata": {},
   "outputs": [],
   "source": []
  }
 ],
 "metadata": {
  "kernelspec": {
   "display_name": "conda_python3",
   "language": "python",
   "name": "conda_python3"
  },
  "language_info": {
   "codemirror_mode": {
    "name": "ipython",
    "version": 3
   },
   "file_extension": ".py",
   "mimetype": "text/x-python",
   "name": "python",
   "nbconvert_exporter": "python",
   "pygments_lexer": "ipython3",
   "version": "3.6.13"
  }
 },
 "nbformat": 4,
 "nbformat_minor": 5
}
